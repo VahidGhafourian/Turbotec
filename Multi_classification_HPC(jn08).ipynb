{
 "cells": [
  {
   "cell_type": "markdown",
   "metadata": {
    "colab_type": "text",
    "id": "14s2Hf1zzNQY"
   },
   "source": [
    "# <div style=\"text-align: center\" >Multiple Classification - Hyper Parameters Selection</div>"
   ]
  },
  {
   "cell_type": "code",
   "execution_count": 0,
   "metadata": {
    "colab": {},
    "colab_type": "code",
    "id": "zoGSaftZzNQi"
   },
   "outputs": [],
   "source": [
    "import matplotlib.pylab as plt\n",
    "import numpy as np\n",
    "import pandas as pd\n",
    "import seaborn as sns\n",
    "import os\n",
    "import sklearn as sk\n",
    "from sklearn.model_selection import cross_val_score\n",
    "from sklearn.metrics import classification_report,confusion_matrix,accuracy_score\n",
    "from sklearn.model_selection import train_test_split\n",
    "from scipy.io import loadmat"
   ]
  },
  {
   "cell_type": "code",
   "execution_count": 0,
   "metadata": {
    "colab": {
     "base_uri": "https://localhost:8080/",
     "height": 34
    },
    "colab_type": "code",
    "executionInfo": {
     "elapsed": 884,
     "status": "ok",
     "timestamp": 1565254266067,
     "user": {
      "displayName": "DS-Team Torbotec",
      "photoUrl": "",
      "userId": "14040815638961296446"
     },
     "user_tz": -270
    },
    "id": "I3X3eF3R0Fye",
    "outputId": "005745da-3875-4ff2-cc8b-13eb74ccfa13"
   },
   "outputs": [
    {
     "name": "stdout",
     "output_type": "stream",
     "text": [
      "Drive already mounted at /content/gdrive; to attempt to forcibly remount, call drive.mount(\"/content/gdrive\", force_remount=True).\n"
     ]
    }
   ],
   "source": [
    "from google.colab import drive\n",
    "drive.mount('/content/gdrive')"
   ]
  },
  {
   "cell_type": "code",
   "execution_count": 0,
   "metadata": {
    "colab": {
     "base_uri": "https://localhost:8080/",
     "height": 34
    },
    "colab_type": "code",
    "executionInfo": {
     "elapsed": 807,
     "status": "ok",
     "timestamp": 1565254267980,
     "user": {
      "displayName": "DS-Team Torbotec",
      "photoUrl": "",
      "userId": "14040815638961296446"
     },
     "user_tz": -270
    },
    "id": "8Wr3_tmX0otF",
    "outputId": "2ea12fde-d387-4f28-889e-2c8923cb7006"
   },
   "outputs": [
    {
     "name": "stdout",
     "output_type": "stream",
     "text": [
      "/content/gdrive/My Drive/Armita Razavi\n"
     ]
    }
   ],
   "source": [
    "cd /content/gdrive/My\\ Drive/Vahid\\ Ghafourian"
   ]
  },
  {
   "cell_type": "markdown",
   "metadata": {
    "colab_type": "text",
    "id": "k7p8ckpUzNQ6"
   },
   "source": [
    "### Load  data  mat files"
   ]
  },
  {
   "cell_type": "code",
   "execution_count": 0,
   "metadata": {
    "colab": {},
    "colab_type": "code",
    "id": "9th7CFilijly"
   },
   "outputs": [],
   "source": [
    "# Get temperature data and make it as a list in order to have it as a feature in dataset\n",
    "dst = loadmat('../datasets/data_trend_tem.mat')\n",
    "dst_l = dst['trend_tem'].tolist()[0]\n",
    "# dst['trend_tem']\n",
    "dst_list = np.asarray(dst_l)\n",
    "# dst_list"
   ]
  },
  {
   "cell_type": "code",
   "execution_count": 0,
   "metadata": {
    "colab": {},
    "colab_type": "code",
    "id": "uyBYitW1sqng"
   },
   "outputs": [],
   "source": [
    "# Load all mat data files in a list format\n",
    "dataDir = \"../datasets/\"\n",
    "mats = []\n",
    "for file in os.listdir(dataDir):\n",
    "     if file.endswith(\".mat\"):\n",
    "        mats.append(loadmat(dataDir+file))"
   ]
  },
  {
   "cell_type": "markdown",
   "metadata": {
    "colab_type": "text",
    "id": "IoO6w4W0HF0v"
   },
   "source": [
    "### Create DataFrames From mat Files"
   ]
  },
  {
   "cell_type": "code",
   "execution_count": 0,
   "metadata": {
    "colab": {},
    "colab_type": "code",
    "id": "kQMTMHQISQYg"
   },
   "outputs": [],
   "source": [
    "# Convert mat data files to pandas dataframes and give names to the columns\n",
    "#  Healthy state shown as 1 - Damaged state shown as 0 in the State target\n",
    "\n",
    "cols = ['Power','Input DG','Output Temp','Output Press','Fuel Debi','TIT','TET']\n",
    "df = {}\n",
    "\n",
    "for i in range(len(mats)-1):\n",
    "    df[i] = pd.DataFrame(list(mats[i].values())[3],columns= cols)\n",
    "    df[i]['Temperature'] = dst_list\n",
    "    if i == 0:\n",
    "        df[i]['State'] = '0'\n",
    "    elif i == 1:\n",
    "        df[i]['State'] = '1'\n",
    "    elif i == 2:\n",
    "        df[i]['State'] = '2'\n",
    "    elif i == 3:\n",
    "        df[i]['State'] = '3'\n",
    "    elif i == 4:\n",
    "        df[i]['State'] = '4'\n",
    "    elif i == 5:\n",
    "        df[i]['State'] = '5'\n",
    "    elif i == 6:\n",
    "        df[i]['State'] = '6'\n",
    "    elif i == 7:\n",
    "        df[i]['State'] = '7'\n",
    "    elif i == 8:\n",
    "        df[i]['State'] = '8'\n",
    "    elif i == 9:\n",
    "        df[i]['State'] = '9'\n",
    "    elif i == 10:\n",
    "        df[i]['State'] = '10'\n",
    "    elif i == 11:\n",
    "        df[i]['State'] = '11'\n",
    "    elif i == 12:\n",
    "        df[i]['State'] = '12'\n",
    "    elif i == 13:\n",
    "        df[i]['State'] = '13' \n",
    "    \n",
    "# df[5].head(10)"
   ]
  },
  {
   "cell_type": "markdown",
   "metadata": {
    "colab_type": "text",
    "id": "sydHGZZ7HO56"
   },
   "source": [
    "### Select Samples "
   ]
  },
  {
   "cell_type": "code",
   "execution_count": 0,
   "metadata": {
    "colab": {},
    "colab_type": "code",
    "id": "Zam6yO6lKUyc"
   },
   "outputs": [],
   "source": [
    "# Select Random Samples From all data for training\n",
    "\n",
    "sample = {}\n",
    "\n",
    "for i in range(len(mats)-1):\n",
    "    if i == 0:\n",
    "        sample[i] = df[i].sample(n= 600, replace = False, random_state = 0)\n",
    "    else:    \n",
    "        sample[i] = df[i].sample(n= 80, replace = False, random_state = 0)   \n",
    "        \n",
    "# sample[0].head(10)[['State']]  "
   ]
  },
  {
   "cell_type": "markdown",
   "metadata": {
    "colab_type": "text",
    "id": "adF50bRbHYWb"
   },
   "source": [
    "### Merge All Samples into One DataFrame and Shuffle the Samples"
   ]
  },
  {
   "cell_type": "code",
   "execution_count": 0,
   "metadata": {
    "colab": {},
    "colab_type": "code",
    "id": "i3Pei-rYzNSz"
   },
   "outputs": [],
   "source": [
    "# Merge all sample data frames to have healthy and damaged samples together\n",
    "total_sample = sample[0].append([sample[1],sample[2], sample[3],sample[4], sample[5],sample[6], sample[7],\n",
    "                                 sample[8],sample[9],sample[10],sample[11],sample[12],sample[13]],\n",
    "                                ignore_index=True)\n",
    "\n",
    "# Shuffle the total sample data\n",
    "total_sample = total_sample.sample(frac=1)\n",
    "# total_sample.head(60)\n",
    "\n",
    "# type(total_sample)"
   ]
  },
  {
   "cell_type": "code",
   "execution_count": 0,
   "metadata": {
    "colab": {},
    "colab_type": "code",
    "id": "Ul-yzxpir1HM"
   },
   "outputs": [],
   "source": [
    "# Set X and y of the total sample data\n",
    "X = total_sample[['Power','Input DG','Output Temp','Output Press','Fuel Debi','TIT','TET','Temperature']]\n",
    "# X = total_sample.iloc[:, 0:8]\n",
    "y = total_sample['State']\n",
    "# y = total_sample.lioc[:, 8]\n",
    "\n"
   ]
  },
  {
   "cell_type": "markdown",
   "metadata": {
    "colab_type": "text",
    "id": "qjm1SYllIYGP"
   },
   "source": [
    "### Create Train and Validation Sets"
   ]
  },
  {
   "cell_type": "code",
   "execution_count": 0,
   "metadata": {
    "colab": {
     "base_uri": "https://localhost:8080/",
     "height": 52
    },
    "colab_type": "code",
    "executionInfo": {
     "elapsed": 2010,
     "status": "ok",
     "timestamp": 1565254391692,
     "user": {
      "displayName": "DS-Team Torbotec",
      "photoUrl": "",
      "userId": "14040815638961296446"
     },
     "user_tz": -270
    },
    "id": "5A7-bn1uIYhU",
    "outputId": "6b8664f0-9e34-4884-d5e3-b953a9455ebd"
   },
   "outputs": [
    {
     "name": "stdout",
     "output_type": "stream",
     "text": [
      "train: 70.0% | validation 30.0%\n",
      "train samples: 6650 | validation samples: 2850\n"
     ]
    }
   ],
   "source": [
    "# split total sample data into test, train and validation sets\n",
    "\n",
    "# create train set and validation set\n",
    "X_train, X_val, y_train, y_val = train_test_split(X, y, train_size=0.7, random_state=0)\n",
    "\n",
    "# print train and validation sets proportions\n",
    "print('train: {}% | validation {}%'.format(round(len(y_train)/len(y),2)*100,round(len(y_val)/len(y),2)*100))\n",
    "print('train samples: {} | validation samples: {}' .format(X_train.shape[0],X_val.shape[0]))"
   ]
  },
  {
   "cell_type": "markdown",
   "metadata": {
    "colab_type": "text",
    "id": "0RWMQXvSHln8"
   },
   "source": [
    "### Select Hyper Parameters for Model (Hyper Parameter Configuration)"
   ]
  },
  {
   "cell_type": "markdown",
   "metadata": {
    "colab_type": "text",
    "id": "cx3fdvJ2WEos"
   },
   "source": [
    "### K-Nearest Neighbors"
   ]
  },
  {
   "cell_type": "code",
   "execution_count": 0,
   "metadata": {
    "colab": {
     "base_uri": "https://localhost:8080/",
     "height": 104
    },
    "colab_type": "code",
    "executionInfo": {
     "elapsed": 143655,
     "status": "ok",
     "timestamp": 1565254609836,
     "user": {
      "displayName": "DS-Team Torbotec",
      "photoUrl": "",
      "userId": "14040815638961296446"
     },
     "user_tz": -270
    },
    "id": "qWW088mUWF-q",
    "outputId": "a4a15855-a856-4b84-c99b-5bdec818682a"
   },
   "outputs": [
    {
     "name": "stdout",
     "output_type": "stream",
     "text": [
      "Best Parameters Chosen for the Model Using GridSearch\n",
      "{'algorithm': 'ball_tree', 'leaf_size': 5, 'n_neighbors': 40, 'weights': 'uniform'}\n",
      "*********************************************************************\n",
      "[0.31263158 0.31526316 0.31210526 0.30789474 0.31157895]\n",
      "knn accuracy:  0.3118947368421052\n"
     ]
    }
   ],
   "source": [
    "from sklearn.neighbors import KNeighborsClassifier\n",
    "from sklearn.model_selection import GridSearchCV\n",
    "\n",
    "param_grid = {'n_neighbors': [5, 10, 20, 30, 40],\n",
    "              'weights': ['uniform', 'distance'],\n",
    "              'algorithm': ['ball_tree', 'kd_tree', 'brute'],\n",
    "              'leaf_size':[5, 10, 20, 30, 40]\n",
    "              }\n",
    "\n",
    "grid = GridSearchCV(KNeighborsClassifier(), param_grid, cv=7)\n",
    "\n",
    "grid.fit(X, y)\n",
    "\n",
    "print('Best Parameters Chosen for the Model Using GridSearch')\n",
    "print(grid.best_params_)\n",
    "print('*********************************************************************')\n",
    "\n",
    "Model1 = grid.best_estimator_\n",
    "\n",
    "# y_pred = Model1.fit(X_train, y_train).predict(X_val)\n",
    "\n",
    "y_preds = cross_val_score(Model1, X, y, cv=5)\n",
    "print(y_preds)\n",
    "\n",
    "print('knn accuracy: ', np.mean(y_preds))\n",
    "\n",
    "# Summary of the predictions made by the classifier\n",
    "# print(classification_report(y_val, y_pred))\n",
    "# print(confusion_matrix(y_val, y_pred))\n",
    "\n",
    "# Predction Score\n",
    "# print('accuracy is',accuracy_score(y_pred,y_val))\n",
    "# knn_accuracy = accuracy_score(y_pred,y_val)"
   ]
  },
  {
   "cell_type": "markdown",
   "metadata": {
    "colab_type": "text",
    "id": "4hSd9u6deUsd"
   },
   "source": [
    "### Random Forest"
   ]
  },
  {
   "cell_type": "code",
   "execution_count": 0,
   "metadata": {
    "colab": {
     "base_uri": "https://localhost:8080/",
     "height": 104
    },
    "colab_type": "code",
    "executionInfo": {
     "elapsed": 1634,
     "status": "ok",
     "timestamp": 1565257406734,
     "user": {
      "displayName": "DS-Team Torbotec",
      "photoUrl": "",
      "userId": "14040815638961296446"
     },
     "user_tz": -270
    },
    "id": "udeP5nu6epgY",
    "outputId": "b25afe90-4d02-4022-9878-0040e370a592"
   },
   "outputs": [
    {
     "name": "stdout",
     "output_type": "stream",
     "text": [
      "Best Parameters Chosen for the Model Using GridSearch\n",
      "{'max_depth': 10, 'max_features': None, 'n_estimators': 15}\n",
      "*********************************************************************\n",
      "[0.52421053 0.51842105 0.51894737 0.54052632 0.51789474]\n",
      "rf accuracy:  0.5239999999999999\n"
     ]
    }
   ],
   "source": [
    "from sklearn.ensemble import RandomForestClassifier\n",
    "from sklearn.model_selection import GridSearchCV\n",
    "\n",
    "\n",
    "param_grid = {'n_estimators': np.arange(1,20),\n",
    "              'max_depth': [2, 4, 6, 8, 10],\n",
    "              'max_features': ['sqrt','log2', None]}\n",
    "\n",
    "grid = GridSearchCV(RandomForestClassifier(), param_grid, cv=7)\n",
    "\n",
    "grid.fit(X, y)\n",
    "\n",
    "grid.best_params_\n",
    "\n",
    "Model2 = grid.best_estimator_\n",
    "\n",
    "print('Best Parameters Chosen for the Model Using GridSearch')\n",
    "print(grid.best_params_)\n",
    "print('*********************************************************************')\n",
    "\n",
    "# y_pred= Model2.fit(X_train, y_train).predict(X_val)\n",
    "\n",
    "y_preds = cross_val_score(Model2, X, y, cv=5)\n",
    "print(y_preds)\n",
    "\n",
    "print('rf accuracy: ', np.mean(y_preds))\n",
    "\n",
    "# Summary of the predictions made by the classifier\n",
    "# print(classification_report(y_val, y_pred))\n",
    "# print(confusion_matrix(y_val, y_pred))\n",
    "\n",
    "# Predction Score\n",
    "# print('accuracy is',accuracy_score(y_pred,y_val))\n",
    "# rf_accuracy = accuracy_score(y_pred,y_val)"
   ]
  }
 ],
 "metadata": {
  "colab": {
   "collapsed_sections": [],
   "name": "Multi_classification_HPC(jn08).ipynb",
   "provenance": [],
   "version": "0.3.2"
  },
  "kernelspec": {
   "display_name": "Python 3",
   "language": "python",
   "name": "python3"
  },
  "language_info": {
   "codemirror_mode": {
    "name": "ipython",
    "version": 3
   },
   "file_extension": ".py",
   "mimetype": "text/x-python",
   "name": "python",
   "nbconvert_exporter": "python",
   "pygments_lexer": "ipython3",
   "version": "3.7.3"
  }
 },
 "nbformat": 4,
 "nbformat_minor": 1
}
